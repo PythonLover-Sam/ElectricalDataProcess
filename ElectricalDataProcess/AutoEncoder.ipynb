{
 "cells": [
  {
   "cell_type": "code",
   "execution_count": 1,
   "metadata": {},
   "outputs": [],
   "source": [
    "import tensorflow as tf\n",
    "import numpy as np\n",
    "import matplotlib as mpl\n",
    "import matplotlib.pyplot as plt\n",
    "import pandas as pd\n",
    "%matplotlib inline"
   ]
  },
  {
   "cell_type": "code",
   "execution_count": 2,
   "metadata": {},
   "outputs": [],
   "source": [
    "import os\n",
    "os.environ[\"CUDA_VISIBLE_DEVICES\"] = \"2\"\n",
    "os.environ['TF_CPP_MIN_LOG_LEVEL'] = '2'\n"
   ]
  },
  {
   "cell_type": "code",
   "execution_count": 3,
   "metadata": {},
   "outputs": [],
   "source": [
    "#  使用panda读取csv文件\n",
    "f1 = pd.read_csv('70500X16.csv', header=None)\n",
    "#f2 = pd.read_csv('tag_data_output.csv', header=None)\n",
    "f3 = pd.read_csv('validate.csv', header=None)\n",
    "data = pd.concat([f1])\n",
    "data = data.to_numpy()[:, 2:]\n",
    "validate_data = f3.to_numpy()[:, 2:]\n"
   ]
  },
  {
   "cell_type": "code",
   "execution_count": 4,
   "metadata": {},
   "outputs": [],
   "source": [
    "#  对numpy数据进行归一化\n",
    "from sklearn.preprocessing import StandardScaler\n",
    "    \n",
    "scaler = StandardScaler()\n",
    "data = scaler.fit_transform(data.astype(np.float32))\n",
    "validate_data = scaler.fit_transform(validate_data.astype(np.float32))\n"
   ]
  },
  {
   "cell_type": "code",
   "execution_count": 101,
   "metadata": {},
   "outputs": [],
   "source": [
    "record_default = [[0.0]] * 16\n",
    "ds = tf.data.experimental.CsvDataset(['x16.csv'], record_default, header=True)\n",
    "ds = ds.map(lambda *items: tf.stack(items[:]))\n",
    "dataset  = tf.data.Dataset.zip((ds, ds)).batch(1).repeat()\n",
    "ts = tf.data.experimental.CsvDataset('validate16.csv', record_default, header=True)\n",
    "ts = ts.map(lambda *items: tf.stack(items[:]))\n",
    "testset  = tf.data.Dataset.zip((ts, ts)).batch(1).repeat()"
   ]
  },
  {
   "cell_type": "code",
   "execution_count": 102,
   "metadata": {},
   "outputs": [],
   "source": [
    "inputsize = 16\n",
    "hiddensize = 16\n",
    "outputsize = 16"
   ]
  },
  {
   "cell_type": "code",
   "execution_count": 103,
   "metadata": {},
   "outputs": [],
   "source": [
    "x = tf.keras.layers.Input(shape=(inputsize, ))\n",
    "h1 = tf.keras.layers.Dense(hiddensize/2, activation='relu')(x)\n",
    "h2 = tf.keras.layers.Dense(hiddensize/4)(h1)\n",
    "o1 = tf.keras.layers.Dense(hiddensize/2, activation='relu')(h2)\n",
    "y = tf.keras.layers.Dense(outputsize)(o1)\n",
    "                                 \n",
    "model = tf.keras.Model(inputs=x, outputs=y)\n",
    "model.compile(optimizer=tf.keras.optimizers.Adadelta(learning_rate=0.02), loss='mse',metrics=['accuracy'])"
   ]
  },
  {
   "cell_type": "code",
   "execution_count": 104,
   "metadata": {},
   "outputs": [
    {
     "name": "stdout",
     "output_type": "stream",
     "text": [
      "Model: \"model_13\"\n",
      "_________________________________________________________________\n",
      "Layer (type)                 Output Shape              Param #   \n",
      "=================================================================\n",
      "input_8 (InputLayer)         [(None, 16)]              0         \n",
      "_________________________________________________________________\n",
      "dense_28 (Dense)             (None, 16)                272       \n",
      "_________________________________________________________________\n",
      "dense_29 (Dense)             (None, 8)                 136       \n",
      "_________________________________________________________________\n",
      "dense_30 (Dense)             (None, 16)                144       \n",
      "_________________________________________________________________\n",
      "dense_31 (Dense)             (None, 16)                272       \n",
      "=================================================================\n",
      "Total params: 824\n",
      "Trainable params: 824\n",
      "Non-trainable params: 0\n",
      "_________________________________________________________________\n"
     ]
    }
   ],
   "source": [
    "model.summary()"
   ]
  },
  {
   "cell_type": "code",
   "execution_count": 105,
   "metadata": {
    "scrolled": false
   },
   "outputs": [
    {
     "name": "stdout",
     "output_type": "stream",
     "text": [
      "Train for 70500 steps, validate for 500 steps\n",
      "Epoch 1/100\n",
      "70500/70500 [==============================] - 81s 1ms/step - loss: 115.0123 - accuracy: 0.7599 - val_loss: 90.2797 - val_accuracy: 0.0080\n",
      "Epoch 2/100\n",
      "70500/70500 [==============================] - 77s 1ms/step - loss: 11.8543 - accuracy: 0.8642 - val_loss: 84.1251 - val_accuracy: 0.0580\n",
      "Epoch 3/100\n",
      "70500/70500 [==============================] - 77s 1ms/step - loss: 8.2911 - accuracy: 0.8940 - val_loss: 78.1768 - val_accuracy: 0.1960\n",
      "Epoch 4/100\n",
      "70500/70500 [==============================] - 77s 1ms/step - loss: 6.1410 - accuracy: 0.9201 - val_loss: 73.7413 - val_accuracy: 0.3400\n",
      "Epoch 5/100\n",
      "70500/70500 [==============================] - 78s 1ms/step - loss: 4.7577 - accuracy: 0.9397 - val_loss: 70.3745 - val_accuracy: 0.3720\n",
      "Epoch 6/100\n",
      "70500/70500 [==============================] - 79s 1ms/step - loss: 3.9238 - accuracy: 0.9479 - val_loss: 66.9610 - val_accuracy: 0.3720\n",
      "Epoch 7/100\n",
      "70500/70500 [==============================] - 78s 1ms/step - loss: 3.3919 - accuracy: 0.9527 - val_loss: 64.3784 - val_accuracy: 0.3740\n",
      "Epoch 8/100\n",
      "70500/70500 [==============================] - 78s 1ms/step - loss: 3.0613 - accuracy: 0.9556 - val_loss: 62.4021 - val_accuracy: 0.3840\n",
      "Epoch 9/100\n",
      "70500/70500 [==============================] - 78s 1ms/step - loss: 2.8449 - accuracy: 0.9573 - val_loss: 60.6277 - val_accuracy: 0.4040\n",
      "Epoch 10/100\n",
      "70500/70500 [==============================] - 80s 1ms/step - loss: 2.6838 - accuracy: 0.9585 - val_loss: 58.8617 - val_accuracy: 0.4280\n",
      "Epoch 11/100\n",
      "70500/70500 [==============================] - 83s 1ms/step - loss: 2.5472 - accuracy: 0.9587 - val_loss: 57.3613 - val_accuracy: 0.4440\n",
      "Epoch 12/100\n",
      "70500/70500 [==============================] - 80s 1ms/step - loss: 2.4228 - accuracy: 0.9585 - val_loss: 56.0154 - val_accuracy: 0.4620\n",
      "Epoch 13/100\n",
      "70500/70500 [==============================] - 79s 1ms/step - loss: 2.3092 - accuracy: 0.9570 - val_loss: 54.7645 - val_accuracy: 0.4720\n",
      "Epoch 14/100\n",
      "70500/70500 [==============================] - 79s 1ms/step - loss: 2.1963 - accuracy: 0.9556 - val_loss: 53.6580 - val_accuracy: 0.4880\n",
      "Epoch 15/100\n",
      "70500/70500 [==============================] - 80s 1ms/step - loss: 2.0865 - accuracy: 0.9545 - val_loss: 52.6834 - val_accuracy: 0.5040\n",
      "Epoch 16/100\n",
      "70500/70500 [==============================] - 80s 1ms/step - loss: 1.9840 - accuracy: 0.9539 - val_loss: 51.8177 - val_accuracy: 0.5080\n",
      "Epoch 17/100\n",
      "70500/70500 [==============================] - 79s 1ms/step - loss: 1.8851 - accuracy: 0.9542 - val_loss: 51.0604 - val_accuracy: 0.5080\n",
      "Epoch 18/100\n",
      "70500/70500 [==============================] - 79s 1ms/step - loss: 1.7959 - accuracy: 0.9544 - val_loss: 50.4029 - val_accuracy: 0.4880\n",
      "Epoch 19/100\n",
      "70500/70500 [==============================] - 80s 1ms/step - loss: 1.7143 - accuracy: 0.9548 - val_loss: 49.8727 - val_accuracy: 0.4700\n",
      "Epoch 20/100\n",
      "70500/70500 [==============================] - 79s 1ms/step - loss: 1.6401 - accuracy: 0.9550 - val_loss: 49.4039 - val_accuracy: 0.4460\n",
      "Epoch 21/100\n",
      "70500/70500 [==============================] - 79s 1ms/step - loss: 1.5768 - accuracy: 0.9552 - val_loss: 48.9129 - val_accuracy: 0.4400\n",
      "Epoch 22/100\n",
      "70500/70500 [==============================] - 80s 1ms/step - loss: 1.5229 - accuracy: 0.9555 - val_loss: 48.3876 - val_accuracy: 0.4380\n",
      "Epoch 23/100\n",
      "70500/70500 [==============================] - 81s 1ms/step - loss: 1.4838 - accuracy: 0.9560 - val_loss: 47.9023 - val_accuracy: 0.4360\n",
      "Epoch 24/100\n",
      "70500/70500 [==============================] - 81s 1ms/step - loss: 1.4455 - accuracy: 0.9565 - val_loss: 47.4573 - val_accuracy: 0.4400\n",
      "Epoch 25/100\n",
      "70500/70500 [==============================] - 81s 1ms/step - loss: 1.4117 - accuracy: 0.9569 - val_loss: 47.1298 - val_accuracy: 0.4380\n",
      "Epoch 26/100\n",
      "70500/70500 [==============================] - 79s 1ms/step - loss: 1.3775 - accuracy: 0.9575 - val_loss: 46.9199 - val_accuracy: 0.4400\n",
      "Epoch 27/100\n",
      "70500/70500 [==============================] - 80s 1ms/step - loss: 1.3310 - accuracy: 0.9581 - val_loss: 46.7729 - val_accuracy: 0.4260\n",
      "Epoch 28/100\n",
      "70500/70500 [==============================] - 79s 1ms/step - loss: 1.3045 - accuracy: 0.9586 - val_loss: 46.6678 - val_accuracy: 0.4100\n",
      "Epoch 29/100\n",
      "70500/70500 [==============================] - 83s 1ms/step - loss: 1.2704 - accuracy: 0.9591 - val_loss: 46.6171 - val_accuracy: 0.3960\n",
      "Epoch 30/100\n",
      "70500/70500 [==============================] - 83s 1ms/step - loss: 1.2482 - accuracy: 0.9598 - val_loss: 46.6039 - val_accuracy: 0.3680\n",
      "Epoch 31/100\n",
      "70500/70500 [==============================] - 82s 1ms/step - loss: 1.2244 - accuracy: 0.9606 - val_loss: 46.5465 - val_accuracy: 0.3500\n",
      "Epoch 32/100\n",
      "70500/70500 [==============================] - 83s 1ms/step - loss: 1.2021 - accuracy: 0.9614 - val_loss: 46.4237 - val_accuracy: 0.3220\n",
      "Epoch 33/100\n",
      "70500/70500 [==============================] - 86s 1ms/step - loss: 1.1744 - accuracy: 0.9622 - val_loss: 46.2511 - val_accuracy: 0.3060\n",
      "Epoch 34/100\n",
      "70500/70500 [==============================] - 83s 1ms/step - loss: 1.1514 - accuracy: 0.9626 - val_loss: 46.0561 - val_accuracy: 0.2960\n",
      "Epoch 35/100\n",
      "70500/70500 [==============================] - 81s 1ms/step - loss: 1.1285 - accuracy: 0.9633 - val_loss: 45.8826 - val_accuracy: 0.2840\n",
      "Epoch 36/100\n",
      "70500/70500 [==============================] - 81s 1ms/step - loss: 1.1104 - accuracy: 0.9640 - val_loss: 45.7549 - val_accuracy: 0.2740\n",
      "Epoch 37/100\n",
      "70500/70500 [==============================] - 81s 1ms/step - loss: 1.0938 - accuracy: 0.9645 - val_loss: 45.6794 - val_accuracy: 0.2640\n",
      "Epoch 38/100\n",
      "70500/70500 [==============================] - 81s 1ms/step - loss: 1.0812 - accuracy: 0.9649 - val_loss: 45.6376 - val_accuracy: 0.2540\n",
      "Epoch 39/100\n",
      "70500/70500 [==============================] - 81s 1ms/step - loss: 1.0696 - accuracy: 0.9650 - val_loss: 45.6079 - val_accuracy: 0.2560\n",
      "Epoch 40/100\n",
      "70500/70500 [==============================] - 81s 1ms/step - loss: 1.0625 - accuracy: 0.9651 - val_loss: 45.5968 - val_accuracy: 0.2520\n",
      "Epoch 41/100\n",
      "70500/70500 [==============================] - 81s 1ms/step - loss: 1.0582 - accuracy: 0.9652 - val_loss: 45.5917 - val_accuracy: 0.2440\n",
      "Epoch 42/100\n",
      "70500/70500 [==============================] - 81s 1ms/step - loss: 1.0525 - accuracy: 0.9654 - val_loss: 45.5842 - val_accuracy: 0.2380\n",
      "Epoch 43/100\n",
      "70500/70500 [==============================] - 81s 1ms/step - loss: 1.0481 - accuracy: 0.9656 - val_loss: 45.6146 - val_accuracy: 0.2440\n",
      "Epoch 44/100\n",
      "70500/70500 [==============================] - 81s 1ms/step - loss: 1.0497 - accuracy: 0.9657 - val_loss: 45.6372 - val_accuracy: 0.2520\n",
      "Epoch 45/100\n",
      "70500/70500 [==============================] - 81s 1ms/step - loss: 1.0555 - accuracy: 0.9657 - val_loss: 45.6825 - val_accuracy: 0.2640\n",
      "Epoch 46/100\n",
      "70500/70500 [==============================] - 81s 1ms/step - loss: 1.0568 - accuracy: 0.9654 - val_loss: 45.7115 - val_accuracy: 0.2720\n",
      "Epoch 47/100\n",
      "70500/70500 [==============================] - 82s 1ms/step - loss: 1.0535 - accuracy: 0.9654 - val_loss: 45.7079 - val_accuracy: 0.2780\n",
      "Epoch 48/100\n",
      "70500/70500 [==============================] - 83s 1ms/step - loss: 1.0545 - accuracy: 0.9653 - val_loss: 45.6451 - val_accuracy: 0.2780\n",
      "Epoch 49/100\n",
      "70500/70500 [==============================] - 81s 1ms/step - loss: 1.0557 - accuracy: 0.9653 - val_loss: 45.5701 - val_accuracy: 0.2820\n",
      "Epoch 50/100\n",
      "70500/70500 [==============================] - 82s 1ms/step - loss: 1.0593 - accuracy: 0.9654 - val_loss: 45.5091 - val_accuracy: 0.2980\n",
      "Epoch 51/100\n",
      "70500/70500 [==============================] - 81s 1ms/step - loss: 1.0572 - accuracy: 0.9654 - val_loss: 45.4497 - val_accuracy: 0.2980\n",
      "Epoch 52/100\n",
      "70500/70500 [==============================] - 89s 1ms/step - loss: 1.0546 - accuracy: 0.9653 - val_loss: 45.3877 - val_accuracy: 0.3000\n",
      "Epoch 53/100\n",
      "70500/70500 [==============================] - 86s 1ms/step - loss: 1.0537 - accuracy: 0.9654 - val_loss: 45.3569 - val_accuracy: 0.3040\n",
      "Epoch 54/100\n",
      "70500/70500 [==============================] - 82s 1ms/step - loss: 1.0473 - accuracy: 0.9654 - val_loss: 45.4686 - val_accuracy: 0.2940\n",
      "Epoch 55/100\n"
     ]
    },
    {
     "name": "stdout",
     "output_type": "stream",
     "text": [
      "70500/70500 [==============================] - 76s 1ms/step - loss: 1.0440 - accuracy: 0.9655 - val_loss: 45.5746 - val_accuracy: 0.2860\n",
      "Epoch 56/100\n",
      "70500/70500 [==============================] - 77s 1ms/step - loss: 1.0370 - accuracy: 0.9655 - val_loss: 45.6643 - val_accuracy: 0.2800\n",
      "Epoch 57/100\n",
      "70500/70500 [==============================] - 76s 1ms/step - loss: 1.0312 - accuracy: 0.9655 - val_loss: 45.7446 - val_accuracy: 0.2840\n",
      "Epoch 58/100\n",
      "70500/70500 [==============================] - 75s 1ms/step - loss: 1.0308 - accuracy: 0.9655 - val_loss: 45.8032 - val_accuracy: 0.2900\n",
      "Epoch 59/100\n",
      "70500/70500 [==============================] - 75s 1ms/step - loss: 1.0386 - accuracy: 0.9655 - val_loss: 45.8116 - val_accuracy: 0.2980\n",
      "Epoch 60/100\n",
      "70500/70500 [==============================] - 75s 1ms/step - loss: 1.0468 - accuracy: 0.9654 - val_loss: 45.7756 - val_accuracy: 0.3020\n",
      "Epoch 61/100\n",
      "70500/70500 [==============================] - 76s 1ms/step - loss: 1.0495 - accuracy: 0.9654 - val_loss: 45.7422 - val_accuracy: 0.3020\n",
      "Epoch 62/100\n",
      "70500/70500 [==============================] - 75s 1ms/step - loss: 1.0359 - accuracy: 0.9654 - val_loss: 45.7462 - val_accuracy: 0.3000\n",
      "Epoch 63/100\n",
      "70500/70500 [==============================] - 75s 1ms/step - loss: 1.0352 - accuracy: 0.9653 - val_loss: 45.7510 - val_accuracy: 0.2980\n",
      "Epoch 64/100\n",
      "70500/70500 [==============================] - 75s 1ms/step - loss: 1.0446 - accuracy: 0.9653 - val_loss: 45.7431 - val_accuracy: 0.2980\n",
      "Epoch 65/100\n",
      "70500/70500 [==============================] - 75s 1ms/step - loss: 1.0335 - accuracy: 0.9653 - val_loss: 45.7440 - val_accuracy: 0.3000\n",
      "Epoch 66/100\n",
      "70500/70500 [==============================] - 76s 1ms/step - loss: 1.0297 - accuracy: 0.9653 - val_loss: 45.7521 - val_accuracy: 0.2980\n",
      "Epoch 67/100\n",
      "70500/70500 [==============================] - 76s 1ms/step - loss: 1.0284 - accuracy: 0.9653 - val_loss: 45.7619 - val_accuracy: 0.3020\n",
      "Epoch 68/100\n",
      "70500/70500 [==============================] - 76s 1ms/step - loss: 1.0189 - accuracy: 0.9653 - val_loss: 45.7534 - val_accuracy: 0.3020\n",
      "Epoch 69/100\n",
      "70500/70500 [==============================] - 76s 1ms/step - loss: 1.0190 - accuracy: 0.9653 - val_loss: 45.7345 - val_accuracy: 0.3020\n",
      "Epoch 70/100\n",
      "70500/70500 [==============================] - 76s 1ms/step - loss: 1.0206 - accuracy: 0.9653 - val_loss: 45.7068 - val_accuracy: 0.3060\n",
      "Epoch 71/100\n",
      "70500/70500 [==============================] - 76s 1ms/step - loss: 1.0216 - accuracy: 0.9652 - val_loss: 45.6852 - val_accuracy: 0.2980\n",
      "Epoch 72/100\n",
      "70500/70500 [==============================] - 76s 1ms/step - loss: 1.0128 - accuracy: 0.9652 - val_loss: 45.6768 - val_accuracy: 0.3020\n",
      "Epoch 73/100\n",
      "70500/70500 [==============================] - 76s 1ms/step - loss: 1.0093 - accuracy: 0.9651 - val_loss: 45.6734 - val_accuracy: 0.3020\n",
      "Epoch 74/100\n",
      "70500/70500 [==============================] - 76s 1ms/step - loss: 1.0061 - accuracy: 0.9651 - val_loss: 45.6769 - val_accuracy: 0.3040\n",
      "Epoch 75/100\n",
      "70500/70500 [==============================] - 76s 1ms/step - loss: 1.0047 - accuracy: 0.9651 - val_loss: 45.6907 - val_accuracy: 0.3000\n",
      "Epoch 76/100\n",
      "70500/70500 [==============================] - 76s 1ms/step - loss: 1.0001 - accuracy: 0.9651 - val_loss: 45.7067 - val_accuracy: 0.2920\n",
      "Epoch 77/100\n",
      "70500/70500 [==============================] - 77s 1ms/step - loss: 0.9986 - accuracy: 0.9651 - val_loss: 45.7247 - val_accuracy: 0.2860\n",
      "Epoch 78/100\n",
      "70500/70500 [==============================] - 77s 1ms/step - loss: 1.0001 - accuracy: 0.9652 - val_loss: 45.7503 - val_accuracy: 0.2760\n",
      "Epoch 79/100\n",
      "70500/70500 [==============================] - 77s 1ms/step - loss: 0.9992 - accuracy: 0.9651 - val_loss: 45.7926 - val_accuracy: 0.2700\n",
      "Epoch 80/100\n",
      "70500/70500 [==============================] - 77s 1ms/step - loss: 0.9935 - accuracy: 0.9651 - val_loss: 45.8304 - val_accuracy: 0.2660\n",
      "Epoch 81/100\n",
      "70500/70500 [==============================] - 77s 1ms/step - loss: 0.9918 - accuracy: 0.9650 - val_loss: 45.8368 - val_accuracy: 0.2560\n",
      "Epoch 82/100\n",
      "70500/70500 [==============================] - 77s 1ms/step - loss: 0.9891 - accuracy: 0.9651 - val_loss: 45.8877 - val_accuracy: 0.2440\n",
      "Epoch 83/100\n",
      "70500/70500 [==============================] - 77s 1ms/step - loss: 0.9855 - accuracy: 0.9650 - val_loss: 45.9368 - val_accuracy: 0.2380\n",
      "Epoch 84/100\n",
      "70500/70500 [==============================] - 77s 1ms/step - loss: 0.9851 - accuracy: 0.9649 - val_loss: 46.1379 - val_accuracy: 0.2340\n",
      "Epoch 85/100\n",
      "70500/70500 [==============================] - 78s 1ms/step - loss: 0.9810 - accuracy: 0.9649 - val_loss: 46.2525 - val_accuracy: 0.2200\n",
      "Epoch 86/100\n",
      "70500/70500 [==============================] - 77s 1ms/step - loss: 0.9800 - accuracy: 0.9649 - val_loss: 46.3519 - val_accuracy: 0.2060\n",
      "Epoch 87/100\n",
      "70500/70500 [==============================] - 77s 1ms/step - loss: 0.9803 - accuracy: 0.9648 - val_loss: 46.4398 - val_accuracy: 0.2000\n",
      "Epoch 88/100\n",
      "70500/70500 [==============================] - 78s 1ms/step - loss: 0.9766 - accuracy: 0.9649 - val_loss: 46.5202 - val_accuracy: 0.1900\n",
      "Epoch 89/100\n",
      "70500/70500 [==============================] - 72s 1ms/step - loss: 0.9770 - accuracy: 0.9649 - val_loss: 46.5853 - val_accuracy: 0.1840\n",
      "Epoch 90/100\n",
      "70500/70500 [==============================] - 65s 928us/step - loss: 0.9769 - accuracy: 0.9649 - val_loss: 46.6356 - val_accuracy: 0.1740\n",
      "Epoch 91/100\n",
      "70500/70500 [==============================] - 70s 996us/step - loss: 0.9730 - accuracy: 0.9648 - val_loss: 46.6616 - val_accuracy: 0.1680\n",
      "Epoch 92/100\n",
      "70500/70500 [==============================] - 77s 1ms/step - loss: 0.9747 - accuracy: 0.9647 - val_loss: 46.7104 - val_accuracy: 0.1640\n",
      "Epoch 93/100\n",
      "70500/70500 [==============================] - 74s 1ms/step - loss: 0.9750 - accuracy: 0.9647 - val_loss: 46.7444 - val_accuracy: 0.1560\n",
      "Epoch 94/100\n",
      "70500/70500 [==============================] - 76s 1ms/step - loss: 0.9758 - accuracy: 0.9646 - val_loss: 46.7778 - val_accuracy: 0.1580\n",
      "Epoch 95/100\n",
      "70500/70500 [==============================] - 74s 1ms/step - loss: 0.9793 - accuracy: 0.9647 - val_loss: 46.8128 - val_accuracy: 0.1540\n",
      "Epoch 96/100\n",
      "70500/70500 [==============================] - 73s 1ms/step - loss: 0.9786 - accuracy: 0.9647 - val_loss: 46.8333 - val_accuracy: 0.1500\n",
      "Epoch 97/100\n",
      "70500/70500 [==============================] - 69s 982us/step - loss: 0.9754 - accuracy: 0.9647 - val_loss: 46.8532 - val_accuracy: 0.1480\n",
      "Epoch 98/100\n",
      "70500/70500 [==============================] - 70s 991us/step - loss: 0.9744 - accuracy: 0.9646 - val_loss: 46.8467 - val_accuracy: 0.1480\n",
      "Epoch 99/100\n",
      "70500/70500 [==============================] - 70s 998us/step - loss: 0.9719 - accuracy: 0.9644 - val_loss: 46.8422 - val_accuracy: 0.1480\n",
      "Epoch 100/100\n",
      "70500/70500 [==============================] - 74s 1ms/step - loss: 0.9719 - accuracy: 0.9645 - val_loss: 46.8498 - val_accuracy: 0.1500\n"
     ]
    }
   ],
   "source": [
    "histroy = model.fit(dataset,\n",
    "                    epochs=100,\n",
    "                    #batch_size=336,\n",
    "                    steps_per_epoch=70500,\n",
    "                    validation_data=testset,\n",
    "                    validation_steps= 500,\n",
    "                    shuffle=True\n",
    "                    \n",
    ")"
   ]
  },
  {
   "cell_type": "code",
   "execution_count": 106,
   "metadata": {
    "scrolled": true
   },
   "outputs": [
    {
     "name": "stdout",
     "output_type": "stream",
     "text": [
      "[ 15.264053     3.857541    -0.59271455 -15.303977    -2.8487039\n",
      "  52.236343    -3.423177   -47.675797  ]\n"
     ]
    }
   ],
   "source": [
    "encoder = tf.keras.Model(x, h2)\n",
    "\"\"\"for item in dataset.take(1):\n",
    "    #print(item)\n",
    "    encoding = encoder.predict(item)\n",
    "    print(encoding[0])\n",
    "    #decoding = model.predict(item)\n",
    "    #print(decoding[0])\"\"\"\n",
    "for item in dataset.take(1):\n",
    "    #print(item)\n",
    "    encoding = encoder.predict(item)\n",
    "    print(encoding[0])"
   ]
  },
  {
   "cell_type": "code",
   "execution_count": 24,
   "metadata": {
    "scrolled": true
   },
   "outputs": [
    {
     "name": "stdout",
     "output_type": "stream",
     "text": [
      "[0.117 0.05  0.025 0.025 0.049 0.117 0.042 0.024 0.024 0.048 0.114 0.039\n",
      " 0.024 0.024 0.049 0.113 0.036 0.102 0.114 0.092 0.029 0.03  0.03  0.09\n",
      " 0.111 0.03  0.029 0.029 0.079 0.119 0.03  0.031 0.031 0.079 0.098 0.029\n",
      " 0.028 0.024 1.597 3.453 1.288 0.102 0.789 0.195 0.129 1.133 0.211 0.152\n",
      " 0.063 0.024 0.024 0.082 0.105 0.025 0.025 0.025 0.11  0.053 0.025 0.025\n",
      " 0.041 0.146 0.109 0.826 0.029 0.05  0.12  0.029 0.029 0.029 0.077 0.097\n",
      " 0.03  0.029 0.029 0.106 0.071 0.029 0.099 0.113 0.101 0.029 0.029 0.04\n",
      " 0.828 2.762 0.085 0.024 0.074 0.111 0.442 0.353 0.322 0.21  0.184 0.135\n",
      " 0.161 0.057 0.024 0.024 0.067 0.116 0.046 0.044 0.042 0.084 0.091 0.094\n",
      " 0.112 0.099 0.73  0.175 0.042 0.474 0.2   0.062 0.054 0.069 0.133 0.052\n",
      " 0.029 0.035 0.135 0.228 0.154 0.137 0.138 0.521 0.295 0.279 0.234 0.187\n",
      " 0.184 0.316 0.231 0.208 0.104 0.103 0.058 0.023 0.023 0.044 0.114 0.393\n",
      " 0.225 0.098 0.025 0.025 0.108 0.025 0.025 0.035 0.116 0.029 0.024 0.025\n",
      " 0.104 0.05  0.024 0.419 0.45  0.082 0.029 0.029 0.062 0.078 0.029 0.029\n",
      " 0.072 0.095 0.029 0.029 0.064 0.098 0.029 0.03  0.065 0.097 0.029 0.029\n",
      " 0.279 2.817 2.781 0.484 0.702 0.713 0.102 0.122 0.173 0.103 0.101 0.15\n",
      " 0.167 0.06  0.025 0.115 0.032 0.025 0.051 0.1   0.025 0.025 0.065 0.068\n",
      " 0.078 0.104 0.098 0.024 0.026 0.06  0.226 0.028 0.028 1.533 2.767 0.264\n",
      " 0.226 0.386 0.122 0.537 0.539 0.171 2.395 0.028 0.024 0.075 0.086 0.024\n",
      " 0.024 0.042 0.116 0.032 0.024 0.074 0.099 0.117 0.038 0.024 0.024 0.085\n",
      " 0.085 0.024 0.025 0.025 0.117 0.056 0.025 0.025 0.046 0.117 0.032 0.024\n",
      " 0.025 0.063 0.104 0.024 0.024 0.024 0.071 0.097 0.024 0.024 0.023 0.08\n",
      " 0.089 0.023 0.023 0.023 0.103 0.044 0.023 0.023 0.061 0.116 0.118 0.107\n",
      " 0.122 0.099 0.023 0.023 0.039 0.115 0.044 0.023 0.023 0.221 0.146 0.059\n",
      " 0.026 0.094 0.049 0.051 0.074 0.115 0.033 0.025 0.025 0.098 0.058 0.025\n",
      " 0.025 0.062 0.089 0.622 0.027 0.093 0.113 0.101 0.029 0.029 0.065 0.098\n",
      " 0.029 0.029 0.057 0.106 0.03  0.03  0.053 0.112 0.03  0.029 0.063 0.079\n",
      " 0.03  0.03  2.518 3.277 0.538 1.565 0.265 0.116 0.162 0.181 0.134 0.111]\n",
      "[ 8.21288675e-04 -4.31369275e-01 -1.17978859e+00  1.32188141e+00\n",
      " -2.29731165e-02  6.46336496e-01 -9.46842432e-02 -4.38508064e-01\n",
      "  6.66061342e-01 -6.85267329e-01 -2.82658875e-01 -4.33690876e-01\n",
      "  3.90141875e-01  5.59775114e-01 -6.98170304e-01  3.71401638e-01\n",
      " -2.59540111e-01  1.52855992e+00  1.87068030e-01 -9.06160712e-01\n",
      "  2.65395381e-02  2.21179128e-01 -2.71207333e-01 -3.11427563e-01\n",
      " -1.03294706e+00  1.15817833e+00  1.87120080e-01 -2.48660594e-01\n",
      " -9.74058390e-01  4.64767516e-01  7.84128964e-01 -1.78020403e-01\n",
      "  1.86824977e-01  5.66222012e-01 -1.15758302e-02 -2.02779286e-02\n",
      " -3.58203560e-01  2.94345230e-01  5.81956446e-01  5.37851155e-01\n",
      " -1.25466132e+00 -7.08769858e-01 -3.02913964e-01 -1.01578154e-01\n",
      "  1.92278758e-01  2.70162642e-01 -1.24731231e+00 -1.33881164e+00\n",
      "  9.13529754e-01  2.33754337e-01  4.63907123e-01  3.67609143e-01\n",
      " -1.73117235e-01  4.97025102e-01  2.06094328e-02  9.83928740e-01\n",
      "  2.48458907e-01  3.44276160e-01  1.61041796e-01 -3.48903686e-02\n",
      "  1.02594757e+00 -6.07658565e-01  8.83602679e-01 -2.31856152e-01\n",
      "  3.55751544e-01 -3.72742891e-01 -2.77762502e-01  7.46774897e-02\n",
      " -9.81159031e-01 -1.11231014e-01  4.42344457e-01 -1.44597864e+00\n",
      "  4.32256013e-01 -9.09185886e-01 -6.13792121e-01  3.59728873e-01\n",
      " -2.39360277e-02  1.01614916e+00  2.60083139e-01 -1.04358219e-01\n",
      " -9.42896530e-02  3.59729707e-01  1.13637792e-02 -9.15666819e-02]\n",
      "[ 0.1509616   0.2197627   0.07071221  0.28270286  0.07457411 -0.48016518\n",
      "  0.15625826  0.1789098   0.35983998  0.07558984  0.17788087  0.11263143\n",
      "  0.11029699 -0.88871455  0.25725368  0.13461104  0.3078173   0.1728492\n",
      "  0.31537637  0.093074    0.29556996  0.16819584  0.3575692   0.2566557\n",
      " -0.40252     0.19287477  0.17928606  0.29990318  0.3443577   0.2613198\n",
      "  0.30524787  0.3212536   0.48676878  0.45854485  0.21378848  0.20621745\n",
      "  0.39361942  0.35143092  0.18284135  0.3888778   0.29475585  0.5243688\n",
      "  0.40521622  0.3949921   0.1995165   0.28397545  0.25895047  0.07248552\n",
      "  0.15918094  0.23448937  0.20864828  0.1740951  -0.09105006 -0.28690374\n",
      "  0.08564109  0.08433673  0.33054113 -0.00953082  0.15680416 -0.11017991\n",
      " -0.61433625  0.20201997  0.14965338  0.23477736  0.08483706  0.24501632\n",
      "  0.15051149  0.36125445  0.11926298  0.18031216  0.22029814 -0.40279177\n",
      "  0.12878907  0.3765268  -0.43188998  0.5031237   0.0112277   0.1870469\n",
      "  0.22336902  0.13153821  0.04794335  0.4100585   0.34034356  0.29072437\n",
      "  0.4538521   0.09218234  0.18550588 -0.77924424  0.5157275   0.3292932\n",
      "  0.375409    0.30999023  0.27338058  0.25061825  0.21860501  0.24983603\n",
      "  0.14138669 -0.4959352   0.27556002  0.02906707  0.14457473  0.3956717\n",
      "  0.07771973 -0.01413943 -0.00405441  0.10888977  0.19206417  0.01821168\n",
      " -0.00762887 -0.0967387   0.2304684   0.2095506   0.2914794   0.1575029\n",
      " -0.5777838   0.28332028  0.26124972  0.18683192 -0.63117915  0.34463757\n",
      "  0.30703133  0.41645062  0.13328959  0.09215715  0.13577455  0.16892916\n",
      " -0.23785967  0.06214985  0.35224324  0.21310483  0.3984903   0.3933738\n",
      "  0.35578346  0.45913666  0.20292021  0.44876587  0.34971452  0.15735345\n",
      "  0.38759413  0.33175075  0.41129097  0.00302706  0.24673793  0.21018085\n",
      "  0.10676262  0.06917056  0.07348519 -0.03446475 -0.17007373 -0.3494836\n",
      "  0.19217539  0.07903232  0.12111095  0.08854782  0.1951948  -0.10628755\n",
      "  0.02137667  0.0551637   0.34137183  0.22506323  0.21300213  0.18665156\n",
      " -0.28336486  0.16934751  0.19588307  0.36408782  0.18438816  0.34463695\n",
      "  0.05063537 -0.40815753  0.08337133  0.08066292 -0.19937284  0.3974074\n",
      " -0.8339482   0.23901607  0.19305997  0.2505765   0.31016254 -0.37444013\n",
      " -0.6432185   0.17095332  0.21119764 -0.42316467  0.15247308  0.08474298\n",
      "  0.3537483   0.04377049  0.22624767  0.08825775  0.16869774  0.08636548\n",
      "  0.26210502  0.16771579  0.14243598  0.13540919  0.04757958 -0.15221585\n",
      "  0.25478634  0.19010647  0.11737502 -0.00376769  0.05210366  0.2709031\n",
      " -0.7118384   0.24558435  0.31806317  0.15078676  0.09696363  0.11664776\n",
      "  0.21514913  0.3825405   0.22817253  0.18277168 -0.42554235  0.08401468\n",
      " -0.52351844  0.44253978  0.28681263  0.173901    0.3315977  -0.743083\n",
      "  0.30247682  0.3509995   0.28309917  0.21727927  0.37203443  0.06954231\n",
      "  0.09186386  0.31611457  0.26055416  0.532226    0.1882001   0.41569424\n",
      "  0.25162065  0.25810146  0.20389915  0.20860466  0.17267032  0.15464209\n",
      "  0.15244567  0.4019169   0.00630755  0.11299926  0.16633302  0.21699755\n",
      "  0.11436104  0.08252802  0.15466043  0.278583    0.07957751  0.2506016\n",
      "  0.25792888  0.11224977  0.2662583   0.08908273  0.32996723  0.40545693\n",
      "  0.1086      0.44432786 -0.44346717  0.32076317  0.17382659  0.10274521\n",
      "  0.34090516  0.46549305  0.22423932  0.36803165  0.24608743  0.35598305\n",
      "  0.24617848  0.2613979   0.20666751  0.38819206  0.2995314   0.41058946\n",
      "  0.50565624  0.38689724  0.26354897  0.22168943  0.66090727  0.13562839\n",
      "  0.4201811   0.39740244  0.44717616  0.293485   -0.70718795  0.3092372\n",
      "  0.18431692  0.25172597  0.24017793  0.24044204  0.19730438 -0.05965515\n",
      "  0.32440913  0.22410056 -0.08295159  0.18256633  0.40225625  0.06282038\n",
      "  0.27366272  0.22598617  0.17142412  0.24878679  0.05792653  0.31986505\n",
      " -0.02101104  0.27079678  0.15607649  0.22150634  0.23231237  0.21499555\n",
      "  0.2872753   0.4426964   0.30323339  0.2703871   0.27666286 -0.06766362\n",
      "  0.22894186  0.11891534  0.19200505  0.2505939   0.27810928  0.39867547\n",
      "  0.1693845   0.09505782  0.37836298  0.4076018   0.4078151   0.45979232\n",
      "  0.3574394   0.35574952  0.2854405   0.34288436  0.21834339  0.29022592]\n"
     ]
    }
   ],
   "source": [
    "encoder = tf.keras.Model(x, h2)\n",
    "print(data[0])\n",
    "encoding = encoder.predict(data)\n",
    "print(encoding[0])\n",
    "decoding = model.predict(data)\n",
    "print(decoding[0])"
   ]
  },
  {
   "cell_type": "code",
   "execution_count": 108,
   "metadata": {},
   "outputs": [
    {
     "data": {
      "text/plain": [
       "[<matplotlib.lines.Line2D at 0x150ba1ef3c8>]"
      ]
     },
     "execution_count": 108,
     "metadata": {},
     "output_type": "execute_result"
    },
    {
     "data": {
      "image/png": "[encoded data removed]",
      "text/plain": [
       "<Figure size 432x288 with 1 Axes>"
      ]
     },
     "metadata": {
      "needs_background": "light"
     },
     "output_type": "display_data"
    }
   ],
   "source": [
    "plt.plot(histroy.history['val_loss'])\n",
    "plt.plot(histroy.history['loss'])\n",
    "#plt.plot(histroy.history['accuracy'])"
   ]
  },
  {
   "cell_type": "code",
   "execution_count": 93,
   "metadata": {},
   "outputs": [
    {
     "data": {
      "text/plain": [
       "[<matplotlib.lines.Line2D at 0x150b159a0c8>]"
      ]
     },
     "execution_count": 93,
     "metadata": {},
     "output_type": "execute_result"
    },
    {
     "data": {
      "image/png": "[encoded data removed]",
      "text/plain": [
       "<Figure size 432x288 with 1 Axes>"
      ]
     },
     "metadata": {
      "needs_background": "light"
     },
     "output_type": "display_data"
    }
   ],
   "source": [
    "plt.plot(histroy.history['accuracy'])"
   ]
  },
  {
   "cell_type": "code",
   "execution_count": 18,
   "metadata": {},
   "outputs": [
    {
     "ename": "ValueError",
     "evalue": "Error when checking input: expected input_1 to have shape (336,) but got array with shape (1,)",
     "output_type": "error",
     "traceback": [
      "\u001b[1;31m---------------------------------------------------------------------------\u001b[0m",
      "\u001b[1;31mValueError\u001b[0m                                Traceback (most recent call last)",
      "\u001b[1;32m<ipython-input-18-9ebc1735ddee>\u001b[0m in \u001b[0;36m<module>\u001b[1;34m\u001b[0m\n\u001b[1;32m----> 1\u001b[1;33m \u001b[0mx\u001b[0m \u001b[1;33m=\u001b[0m \u001b[0mmodel\u001b[0m\u001b[1;33m.\u001b[0m\u001b[0mevaluate\u001b[0m\u001b[1;33m(\u001b[0m\u001b[0mdata\u001b[0m\u001b[1;33m[\u001b[0m\u001b[1;36m0\u001b[0m\u001b[1;33m]\u001b[0m\u001b[1;33m)\u001b[0m\u001b[1;33m\u001b[0m\u001b[1;33m\u001b[0m\u001b[0m\n\u001b[0m\u001b[0;32m      2\u001b[0m \u001b[0mprint\u001b[0m\u001b[1;33m(\u001b[0m\u001b[0mx\u001b[0m\u001b[1;33m)\u001b[0m\u001b[1;33m\u001b[0m\u001b[1;33m\u001b[0m\u001b[0m\n",
      "\u001b[1;32mD:\\Anaconda\\lib\\site-packages\\tensorflow_core\\python\\keras\\engine\\training.py\u001b[0m in \u001b[0;36mevaluate\u001b[1;34m(self, x, y, batch_size, verbose, sample_weight, steps, callbacks, max_queue_size, workers, use_multiprocessing)\u001b[0m\n\u001b[0;32m    928\u001b[0m         \u001b[0mmax_queue_size\u001b[0m\u001b[1;33m=\u001b[0m\u001b[0mmax_queue_size\u001b[0m\u001b[1;33m,\u001b[0m\u001b[1;33m\u001b[0m\u001b[1;33m\u001b[0m\u001b[0m\n\u001b[0;32m    929\u001b[0m         \u001b[0mworkers\u001b[0m\u001b[1;33m=\u001b[0m\u001b[0mworkers\u001b[0m\u001b[1;33m,\u001b[0m\u001b[1;33m\u001b[0m\u001b[1;33m\u001b[0m\u001b[0m\n\u001b[1;32m--> 930\u001b[1;33m         use_multiprocessing=use_multiprocessing)\n\u001b[0m\u001b[0;32m    931\u001b[0m \u001b[1;33m\u001b[0m\u001b[0m\n\u001b[0;32m    932\u001b[0m   def predict(self,\n",
      "\u001b[1;32mD:\\Anaconda\\lib\\site-packages\\tensorflow_core\\python\\keras\\engine\\training_v2.py\u001b[0m in \u001b[0;36mevaluate\u001b[1;34m(self, model, x, y, batch_size, verbose, sample_weight, steps, callbacks, max_queue_size, workers, use_multiprocessing, **kwargs)\u001b[0m\n\u001b[0;32m    488\u001b[0m         \u001b[0msample_weight\u001b[0m\u001b[1;33m=\u001b[0m\u001b[0msample_weight\u001b[0m\u001b[1;33m,\u001b[0m \u001b[0msteps\u001b[0m\u001b[1;33m=\u001b[0m\u001b[0msteps\u001b[0m\u001b[1;33m,\u001b[0m \u001b[0mcallbacks\u001b[0m\u001b[1;33m=\u001b[0m\u001b[0mcallbacks\u001b[0m\u001b[1;33m,\u001b[0m\u001b[1;33m\u001b[0m\u001b[1;33m\u001b[0m\u001b[0m\n\u001b[0;32m    489\u001b[0m         \u001b[0mmax_queue_size\u001b[0m\u001b[1;33m=\u001b[0m\u001b[0mmax_queue_size\u001b[0m\u001b[1;33m,\u001b[0m \u001b[0mworkers\u001b[0m\u001b[1;33m=\u001b[0m\u001b[0mworkers\u001b[0m\u001b[1;33m,\u001b[0m\u001b[1;33m\u001b[0m\u001b[1;33m\u001b[0m\u001b[0m\n\u001b[1;32m--> 490\u001b[1;33m         use_multiprocessing=use_multiprocessing, **kwargs)\n\u001b[0m\u001b[0;32m    491\u001b[0m \u001b[1;33m\u001b[0m\u001b[0m\n\u001b[0;32m    492\u001b[0m   def predict(self, model, x, batch_size=None, verbose=0, steps=None,\n",
      "\u001b[1;32mD:\\Anaconda\\lib\\site-packages\\tensorflow_core\\python\\keras\\engine\\training_v2.py\u001b[0m in \u001b[0;36m_model_iteration\u001b[1;34m(self, model, mode, x, y, batch_size, verbose, sample_weight, steps, callbacks, max_queue_size, workers, use_multiprocessing, **kwargs)\u001b[0m\n\u001b[0;32m    424\u001b[0m           \u001b[0mmax_queue_size\u001b[0m\u001b[1;33m=\u001b[0m\u001b[0mmax_queue_size\u001b[0m\u001b[1;33m,\u001b[0m\u001b[1;33m\u001b[0m\u001b[1;33m\u001b[0m\u001b[0m\n\u001b[0;32m    425\u001b[0m           \u001b[0mworkers\u001b[0m\u001b[1;33m=\u001b[0m\u001b[0mworkers\u001b[0m\u001b[1;33m,\u001b[0m\u001b[1;33m\u001b[0m\u001b[1;33m\u001b[0m\u001b[0m\n\u001b[1;32m--> 426\u001b[1;33m           use_multiprocessing=use_multiprocessing)\n\u001b[0m\u001b[0;32m    427\u001b[0m       \u001b[0mtotal_samples\u001b[0m \u001b[1;33m=\u001b[0m \u001b[0m_get_total_number_of_samples\u001b[0m\u001b[1;33m(\u001b[0m\u001b[0madapter\u001b[0m\u001b[1;33m)\u001b[0m\u001b[1;33m\u001b[0m\u001b[1;33m\u001b[0m\u001b[0m\n\u001b[0;32m    428\u001b[0m       \u001b[0muse_sample\u001b[0m \u001b[1;33m=\u001b[0m \u001b[0mtotal_samples\u001b[0m \u001b[1;32mis\u001b[0m \u001b[1;32mnot\u001b[0m \u001b[1;32mNone\u001b[0m\u001b[1;33m\u001b[0m\u001b[1;33m\u001b[0m\u001b[0m\n",
      "\u001b[1;32mD:\\Anaconda\\lib\\site-packages\\tensorflow_core\\python\\keras\\engine\\training_v2.py\u001b[0m in \u001b[0;36m_process_inputs\u001b[1;34m(model, mode, x, y, batch_size, epochs, sample_weights, class_weights, shuffle, steps, distribution_strategy, max_queue_size, workers, use_multiprocessing)\u001b[0m\n\u001b[0;32m    644\u001b[0m     \u001b[0mstandardize_function\u001b[0m \u001b[1;33m=\u001b[0m \u001b[1;32mNone\u001b[0m\u001b[1;33m\u001b[0m\u001b[1;33m\u001b[0m\u001b[0m\n\u001b[0;32m    645\u001b[0m     x, y, sample_weights = standardize(\n\u001b[1;32m--> 646\u001b[1;33m         x, y, sample_weight=sample_weights)\n\u001b[0m\u001b[0;32m    647\u001b[0m   \u001b[1;32melif\u001b[0m \u001b[0madapter_cls\u001b[0m \u001b[1;32mis\u001b[0m \u001b[0mdata_adapter\u001b[0m\u001b[1;33m.\u001b[0m\u001b[0mListsOfScalarsDataAdapter\u001b[0m\u001b[1;33m:\u001b[0m\u001b[1;33m\u001b[0m\u001b[1;33m\u001b[0m\u001b[0m\n\u001b[0;32m    648\u001b[0m     \u001b[0mstandardize_function\u001b[0m \u001b[1;33m=\u001b[0m \u001b[0mstandardize\u001b[0m\u001b[1;33m\u001b[0m\u001b[1;33m\u001b[0m\u001b[0m\n",
      "\u001b[1;32mD:\\Anaconda\\lib\\site-packages\\tensorflow_core\\python\\keras\\engine\\training.py\u001b[0m in \u001b[0;36m_standardize_user_data\u001b[1;34m(self, x, y, sample_weight, class_weight, batch_size, check_steps, steps_name, steps, validation_split, shuffle, extract_tensors_from_dataset)\u001b[0m\n\u001b[0;32m   2381\u001b[0m         \u001b[0mis_dataset\u001b[0m\u001b[1;33m=\u001b[0m\u001b[0mis_dataset\u001b[0m\u001b[1;33m,\u001b[0m\u001b[1;33m\u001b[0m\u001b[1;33m\u001b[0m\u001b[0m\n\u001b[0;32m   2382\u001b[0m         \u001b[0mclass_weight\u001b[0m\u001b[1;33m=\u001b[0m\u001b[0mclass_weight\u001b[0m\u001b[1;33m,\u001b[0m\u001b[1;33m\u001b[0m\u001b[1;33m\u001b[0m\u001b[0m\n\u001b[1;32m-> 2383\u001b[1;33m         batch_size=batch_size)\n\u001b[0m\u001b[0;32m   2384\u001b[0m \u001b[1;33m\u001b[0m\u001b[0m\n\u001b[0;32m   2385\u001b[0m   def _standardize_tensors(self, x, y, sample_weight, run_eagerly, dict_inputs,\n",
      "\u001b[1;32mD:\\Anaconda\\lib\\site-packages\\tensorflow_core\\python\\keras\\engine\\training.py\u001b[0m in \u001b[0;36m_standardize_tensors\u001b[1;34m(self, x, y, sample_weight, run_eagerly, dict_inputs, is_dataset, class_weight, batch_size)\u001b[0m\n\u001b[0;32m   2408\u001b[0m           \u001b[0mfeed_input_shapes\u001b[0m\u001b[1;33m,\u001b[0m\u001b[1;33m\u001b[0m\u001b[1;33m\u001b[0m\u001b[0m\n\u001b[0;32m   2409\u001b[0m           \u001b[0mcheck_batch_axis\u001b[0m\u001b[1;33m=\u001b[0m\u001b[1;32mFalse\u001b[0m\u001b[1;33m,\u001b[0m  \u001b[1;31m# Don't enforce the batch size.\u001b[0m\u001b[1;33m\u001b[0m\u001b[1;33m\u001b[0m\u001b[0m\n\u001b[1;32m-> 2410\u001b[1;33m           exception_prefix='input')\n\u001b[0m\u001b[0;32m   2411\u001b[0m \u001b[1;33m\u001b[0m\u001b[0m\n\u001b[0;32m   2412\u001b[0m     \u001b[1;31m# Get typespecs for the input data and sanitize it if necessary.\u001b[0m\u001b[1;33m\u001b[0m\u001b[1;33m\u001b[0m\u001b[1;33m\u001b[0m\u001b[0m\n",
      "\u001b[1;32mD:\\Anaconda\\lib\\site-packages\\tensorflow_core\\python\\keras\\engine\\training_utils.py\u001b[0m in \u001b[0;36mstandardize_input_data\u001b[1;34m(data, names, shapes, check_batch_axis, exception_prefix)\u001b[0m\n\u001b[0;32m    580\u001b[0m                              \u001b[1;34m': expected '\u001b[0m \u001b[1;33m+\u001b[0m \u001b[0mnames\u001b[0m\u001b[1;33m[\u001b[0m\u001b[0mi\u001b[0m\u001b[1;33m]\u001b[0m \u001b[1;33m+\u001b[0m \u001b[1;34m' to have shape '\u001b[0m \u001b[1;33m+\u001b[0m\u001b[1;33m\u001b[0m\u001b[1;33m\u001b[0m\u001b[0m\n\u001b[0;32m    581\u001b[0m                              \u001b[0mstr\u001b[0m\u001b[1;33m(\u001b[0m\u001b[0mshape\u001b[0m\u001b[1;33m)\u001b[0m \u001b[1;33m+\u001b[0m \u001b[1;34m' but got array with shape '\u001b[0m \u001b[1;33m+\u001b[0m\u001b[1;33m\u001b[0m\u001b[1;33m\u001b[0m\u001b[0m\n\u001b[1;32m--> 582\u001b[1;33m                              str(data_shape))\n\u001b[0m\u001b[0;32m    583\u001b[0m   \u001b[1;32mreturn\u001b[0m \u001b[0mdata\u001b[0m\u001b[1;33m\u001b[0m\u001b[1;33m\u001b[0m\u001b[0m\n\u001b[0;32m    584\u001b[0m \u001b[1;33m\u001b[0m\u001b[0m\n",
      "\u001b[1;31mValueError\u001b[0m: Error when checking input: expected input_1 to have shape (336,) but got array with shape (1,)"
     ]
    }
   ],
   "source": [
    "x = model.evaluate(data[0])\n",
    "print(x)"
   ]
  },
  {
   "cell_type": "code",
   "execution_count": 11,
   "metadata": {},
   "outputs": [],
   "source": [
    "#  保存模型\n",
    "model.save('A2150_100_20200311.h5')"
   ]
  },
  {
   "cell_type": "code",
   "execution_count": 109,
   "metadata": {},
   "outputs": [
    {
     "name": "stdout",
     "output_type": "stream",
     "text": [
      "1000\n",
      "2000\n",
      "3000\n",
      "4000\n",
      "5000\n",
      "6000\n",
      "7000\n",
      "8000\n",
      "9000\n",
      "10000\n",
      "11000\n",
      "12000\n",
      "13000\n",
      "14000\n",
      "15000\n",
      "16000\n",
      "17000\n",
      "18000\n",
      "19000\n",
      "20000\n",
      "21000\n",
      "22000\n",
      "23000\n",
      "24000\n",
      "25000\n",
      "26000\n",
      "27000\n",
      "28000\n",
      "29000\n",
      "30000\n",
      "31000\n",
      "32000\n",
      "33000\n",
      "34000\n",
      "35000\n",
      "36000\n",
      "37000\n",
      "38000\n",
      "39000\n",
      "40000\n",
      "41000\n",
      "42000\n",
      "43000\n",
      "44000\n",
      "45000\n",
      "46000\n",
      "47000\n",
      "48000\n",
      "49000\n",
      "50000\n",
      "51000\n",
      "52000\n",
      "53000\n",
      "54000\n",
      "55000\n",
      "56000\n",
      "57000\n",
      "58000\n",
      "59000\n",
      "60000\n",
      "61000\n",
      "62000\n",
      "63000\n",
      "64000\n",
      "65000\n",
      "66000\n",
      "67000\n",
      "68000\n",
      "69000\n",
      "70000\n"
     ]
    }
   ],
   "source": [
    "# 保存输出数据到csv文件中\n",
    "import csv\n",
    "\n",
    "with open(\"x8.csv\", 'w', newline='') as f:\n",
    "    f_csv = csv.writer(f)\n",
    "    k = 0\n",
    "    for item in dataset.take(70500):\n",
    "        k += 1\n",
    "        if(k % 1000 == 0):\n",
    "            print(k)\n",
    "        encoding = encoder.predict(item)\n",
    "        f_csv.writerow(encoding[0])"
   ]
  },
  {
   "cell_type": "code",
   "execution_count": 21,
   "metadata": {},
   "outputs": [],
   "source": [
    "from cmath import *"
   ]
  },
  {
   "cell_type": "code",
   "execution_count": 50,
   "metadata": {},
   "outputs": [],
   "source": [
    "a = 1.739 + 1.739j"
   ]
  },
  {
   "cell_type": "code",
   "execution_count": 51,
   "metadata": {},
   "outputs": [
    {
     "data": {
      "text/plain": [
       "(1.739+1.739j)"
      ]
     },
     "execution_count": 51,
     "metadata": {},
     "output_type": "execute_result"
    }
   ],
   "source": [
    "a"
   ]
  },
  {
   "cell_type": "code",
   "execution_count": 52,
   "metadata": {},
   "outputs": [
    {
     "data": {
      "text/plain": [
       "(2.4593173849668126, 0.7853981633974483)"
      ]
     },
     "execution_count": 52,
     "metadata": {},
     "output_type": "execute_result"
    }
   ],
   "source": [
    "b = polar(a)\n",
    "b"
   ]
  },
  {
   "cell_type": "code",
   "execution_count": 53,
   "metadata": {},
   "outputs": [
    {
     "data": {
      "text/plain": [
       "45.0"
      ]
     },
     "execution_count": 53,
     "metadata": {},
     "output_type": "execute_result"
    }
   ],
   "source": [
    "b[1]*180 / pi\n"
   ]
  },
  {
   "cell_type": "code",
   "execution_count": 49,
   "metadata": {},
   "outputs": [
    {
     "data": {
      "text/plain": [
       "(1.7387641976153545+0j)"
      ]
     },
     "execution_count": 49,
     "metadata": {},
     "output_type": "execute_result"
    }
   ],
   "source": [
    "sqrt((1 + 1.02 * 1.6 * sin(b[1]))**2 + (1.02 * 1.6 * cos(b[1])) ** 2)"
   ]
  },
  {
   "cell_type": "code",
   "execution_count": 43,
   "metadata": {},
   "outputs": [
    {
     "data": {
      "text/plain": [
       "2.18"
      ]
     },
     "execution_count": 43,
     "metadata": {},
     "output_type": "execute_result"
    }
   ],
   "source": [
    "0.13 + 0.33 + 0.12 + 1.6"
   ]
  },
  {
   "cell_type": "code",
   "execution_count": 54,
   "metadata": {},
   "outputs": [
    {
     "data": {
      "text/plain": [
       "1.1279816513761467"
      ]
     },
     "execution_count": 54,
     "metadata": {},
     "output_type": "execute_result"
    }
   ],
   "source": [
    "2.459 / 2.18"
   ]
  },
  {
   "cell_type": "code",
   "execution_count": null,
   "metadata": {},
   "outputs": [],
   "source": []
  }
 ],
 "metadata": {
  "kernelspec": {
   "display_name": "Python 3",
   "language": "python",
   "name": "python3"
  },
  "language_info": {
   "codemirror_mode": {
    "name": "ipython",
    "version": 3
   },
   "file_extension": ".py",
   "mimetype": "text/x-python",
   "name": "python",
   "nbconvert_exporter": "python",
   "pygments_lexer": "ipython3",
   "version": "3.7.4"
  }
 },
 "nbformat": 4,
 "nbformat_minor": 2
}
